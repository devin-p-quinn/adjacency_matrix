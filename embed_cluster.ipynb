{
  "nbformat": 4,
  "nbformat_minor": 0,
  "metadata": {
    "colab": {
      "provenance": [],
      "gpuType": "T4",
      "authorship_tag": "ABX9TyM1NQWJvYk4N/lJk0xobkoo",
      "include_colab_link": true
    },
    "kernelspec": {
      "name": "python3",
      "display_name": "Python 3"
    },
    "language_info": {
      "name": "python"
    },
    "accelerator": "GPU",
    "widgets": {
      "application/vnd.jupyter.widget-state+json": {
        "c8ce7c316a54427cac97d361d3e60055": {
          "model_module": "@jupyter-widgets/controls",
          "model_name": "HBoxModel",
          "model_module_version": "1.5.0",
          "state": {
            "_dom_classes": [],
            "_model_module": "@jupyter-widgets/controls",
            "_model_module_version": "1.5.0",
            "_model_name": "HBoxModel",
            "_view_count": null,
            "_view_module": "@jupyter-widgets/controls",
            "_view_module_version": "1.5.0",
            "_view_name": "HBoxView",
            "box_style": "",
            "children": [
              "IPY_MODEL_add2c518578f4f98bac5ea004bcef482",
              "IPY_MODEL_e7f5ca8cdb8a4a228ef327deb2f86956",
              "IPY_MODEL_a773db7c81b542438cbb75a079eaebf1"
            ],
            "layout": "IPY_MODEL_eaa9a221db5147238ef083c7f7303089"
          }
        },
        "add2c518578f4f98bac5ea004bcef482": {
          "model_module": "@jupyter-widgets/controls",
          "model_name": "HTMLModel",
          "model_module_version": "1.5.0",
          "state": {
            "_dom_classes": [],
            "_model_module": "@jupyter-widgets/controls",
            "_model_module_version": "1.5.0",
            "_model_name": "HTMLModel",
            "_view_count": null,
            "_view_module": "@jupyter-widgets/controls",
            "_view_module_version": "1.5.0",
            "_view_name": "HTMLView",
            "description": "",
            "description_tooltip": null,
            "layout": "IPY_MODEL_b40a29b148ec4b1cb7a0c837802c4e4d",
            "placeholder": "​",
            "style": "IPY_MODEL_3b12a836497441e699467633aa221614",
            "value": "Batches: 100%"
          }
        },
        "e7f5ca8cdb8a4a228ef327deb2f86956": {
          "model_module": "@jupyter-widgets/controls",
          "model_name": "FloatProgressModel",
          "model_module_version": "1.5.0",
          "state": {
            "_dom_classes": [],
            "_model_module": "@jupyter-widgets/controls",
            "_model_module_version": "1.5.0",
            "_model_name": "FloatProgressModel",
            "_view_count": null,
            "_view_module": "@jupyter-widgets/controls",
            "_view_module_version": "1.5.0",
            "_view_name": "ProgressView",
            "bar_style": "success",
            "description": "",
            "description_tooltip": null,
            "layout": "IPY_MODEL_1eac0babee934fc7939b91ba6ec5d40e",
            "max": 63,
            "min": 0,
            "orientation": "horizontal",
            "style": "IPY_MODEL_4ab155972a864202a718a08923d63e5f",
            "value": 63
          }
        },
        "a773db7c81b542438cbb75a079eaebf1": {
          "model_module": "@jupyter-widgets/controls",
          "model_name": "HTMLModel",
          "model_module_version": "1.5.0",
          "state": {
            "_dom_classes": [],
            "_model_module": "@jupyter-widgets/controls",
            "_model_module_version": "1.5.0",
            "_model_name": "HTMLModel",
            "_view_count": null,
            "_view_module": "@jupyter-widgets/controls",
            "_view_module_version": "1.5.0",
            "_view_name": "HTMLView",
            "description": "",
            "description_tooltip": null,
            "layout": "IPY_MODEL_4bba6699af8d44a5a112be3e6c9dee57",
            "placeholder": "​",
            "style": "IPY_MODEL_e4d8532aefb7459589f4ca3e8e2f3f4b",
            "value": " 63/63 [00:05&lt;00:00, 17.47it/s]"
          }
        },
        "eaa9a221db5147238ef083c7f7303089": {
          "model_module": "@jupyter-widgets/base",
          "model_name": "LayoutModel",
          "model_module_version": "1.2.0",
          "state": {
            "_model_module": "@jupyter-widgets/base",
            "_model_module_version": "1.2.0",
            "_model_name": "LayoutModel",
            "_view_count": null,
            "_view_module": "@jupyter-widgets/base",
            "_view_module_version": "1.2.0",
            "_view_name": "LayoutView",
            "align_content": null,
            "align_items": null,
            "align_self": null,
            "border": null,
            "bottom": null,
            "display": null,
            "flex": null,
            "flex_flow": null,
            "grid_area": null,
            "grid_auto_columns": null,
            "grid_auto_flow": null,
            "grid_auto_rows": null,
            "grid_column": null,
            "grid_gap": null,
            "grid_row": null,
            "grid_template_areas": null,
            "grid_template_columns": null,
            "grid_template_rows": null,
            "height": null,
            "justify_content": null,
            "justify_items": null,
            "left": null,
            "margin": null,
            "max_height": null,
            "max_width": null,
            "min_height": null,
            "min_width": null,
            "object_fit": null,
            "object_position": null,
            "order": null,
            "overflow": null,
            "overflow_x": null,
            "overflow_y": null,
            "padding": null,
            "right": null,
            "top": null,
            "visibility": null,
            "width": null
          }
        },
        "b40a29b148ec4b1cb7a0c837802c4e4d": {
          "model_module": "@jupyter-widgets/base",
          "model_name": "LayoutModel",
          "model_module_version": "1.2.0",
          "state": {
            "_model_module": "@jupyter-widgets/base",
            "_model_module_version": "1.2.0",
            "_model_name": "LayoutModel",
            "_view_count": null,
            "_view_module": "@jupyter-widgets/base",
            "_view_module_version": "1.2.0",
            "_view_name": "LayoutView",
            "align_content": null,
            "align_items": null,
            "align_self": null,
            "border": null,
            "bottom": null,
            "display": null,
            "flex": null,
            "flex_flow": null,
            "grid_area": null,
            "grid_auto_columns": null,
            "grid_auto_flow": null,
            "grid_auto_rows": null,
            "grid_column": null,
            "grid_gap": null,
            "grid_row": null,
            "grid_template_areas": null,
            "grid_template_columns": null,
            "grid_template_rows": null,
            "height": null,
            "justify_content": null,
            "justify_items": null,
            "left": null,
            "margin": null,
            "max_height": null,
            "max_width": null,
            "min_height": null,
            "min_width": null,
            "object_fit": null,
            "object_position": null,
            "order": null,
            "overflow": null,
            "overflow_x": null,
            "overflow_y": null,
            "padding": null,
            "right": null,
            "top": null,
            "visibility": null,
            "width": null
          }
        },
        "3b12a836497441e699467633aa221614": {
          "model_module": "@jupyter-widgets/controls",
          "model_name": "DescriptionStyleModel",
          "model_module_version": "1.5.0",
          "state": {
            "_model_module": "@jupyter-widgets/controls",
            "_model_module_version": "1.5.0",
            "_model_name": "DescriptionStyleModel",
            "_view_count": null,
            "_view_module": "@jupyter-widgets/base",
            "_view_module_version": "1.2.0",
            "_view_name": "StyleView",
            "description_width": ""
          }
        },
        "1eac0babee934fc7939b91ba6ec5d40e": {
          "model_module": "@jupyter-widgets/base",
          "model_name": "LayoutModel",
          "model_module_version": "1.2.0",
          "state": {
            "_model_module": "@jupyter-widgets/base",
            "_model_module_version": "1.2.0",
            "_model_name": "LayoutModel",
            "_view_count": null,
            "_view_module": "@jupyter-widgets/base",
            "_view_module_version": "1.2.0",
            "_view_name": "LayoutView",
            "align_content": null,
            "align_items": null,
            "align_self": null,
            "border": null,
            "bottom": null,
            "display": null,
            "flex": null,
            "flex_flow": null,
            "grid_area": null,
            "grid_auto_columns": null,
            "grid_auto_flow": null,
            "grid_auto_rows": null,
            "grid_column": null,
            "grid_gap": null,
            "grid_row": null,
            "grid_template_areas": null,
            "grid_template_columns": null,
            "grid_template_rows": null,
            "height": null,
            "justify_content": null,
            "justify_items": null,
            "left": null,
            "margin": null,
            "max_height": null,
            "max_width": null,
            "min_height": null,
            "min_width": null,
            "object_fit": null,
            "object_position": null,
            "order": null,
            "overflow": null,
            "overflow_x": null,
            "overflow_y": null,
            "padding": null,
            "right": null,
            "top": null,
            "visibility": null,
            "width": null
          }
        },
        "4ab155972a864202a718a08923d63e5f": {
          "model_module": "@jupyter-widgets/controls",
          "model_name": "ProgressStyleModel",
          "model_module_version": "1.5.0",
          "state": {
            "_model_module": "@jupyter-widgets/controls",
            "_model_module_version": "1.5.0",
            "_model_name": "ProgressStyleModel",
            "_view_count": null,
            "_view_module": "@jupyter-widgets/base",
            "_view_module_version": "1.2.0",
            "_view_name": "StyleView",
            "bar_color": null,
            "description_width": ""
          }
        },
        "4bba6699af8d44a5a112be3e6c9dee57": {
          "model_module": "@jupyter-widgets/base",
          "model_name": "LayoutModel",
          "model_module_version": "1.2.0",
          "state": {
            "_model_module": "@jupyter-widgets/base",
            "_model_module_version": "1.2.0",
            "_model_name": "LayoutModel",
            "_view_count": null,
            "_view_module": "@jupyter-widgets/base",
            "_view_module_version": "1.2.0",
            "_view_name": "LayoutView",
            "align_content": null,
            "align_items": null,
            "align_self": null,
            "border": null,
            "bottom": null,
            "display": null,
            "flex": null,
            "flex_flow": null,
            "grid_area": null,
            "grid_auto_columns": null,
            "grid_auto_flow": null,
            "grid_auto_rows": null,
            "grid_column": null,
            "grid_gap": null,
            "grid_row": null,
            "grid_template_areas": null,
            "grid_template_columns": null,
            "grid_template_rows": null,
            "height": null,
            "justify_content": null,
            "justify_items": null,
            "left": null,
            "margin": null,
            "max_height": null,
            "max_width": null,
            "min_height": null,
            "min_width": null,
            "object_fit": null,
            "object_position": null,
            "order": null,
            "overflow": null,
            "overflow_x": null,
            "overflow_y": null,
            "padding": null,
            "right": null,
            "top": null,
            "visibility": null,
            "width": null
          }
        },
        "e4d8532aefb7459589f4ca3e8e2f3f4b": {
          "model_module": "@jupyter-widgets/controls",
          "model_name": "DescriptionStyleModel",
          "model_module_version": "1.5.0",
          "state": {
            "_model_module": "@jupyter-widgets/controls",
            "_model_module_version": "1.5.0",
            "_model_name": "DescriptionStyleModel",
            "_view_count": null,
            "_view_module": "@jupyter-widgets/base",
            "_view_module_version": "1.2.0",
            "_view_name": "StyleView",
            "description_width": ""
          }
        }
      }
    }
  },
  "cells": [
    {
      "cell_type": "markdown",
      "metadata": {
        "id": "view-in-github",
        "colab_type": "text"
      },
      "source": [
        "<a href=\"https://colab.research.google.com/github/devin-p-quinn/adjacency_matrix/blob/main/embed_cluster.ipynb\" target=\"_parent\"><img src=\"https://colab.research.google.com/assets/colab-badge.svg\" alt=\"Open In Colab\"/></a>"
      ]
    },
    {
      "cell_type": "markdown",
      "source": [
        "# **Embed and Cluster**\n",
        "\n",
        "This is a working copy of the Altalytics Embed and Cluster Module. Use this in a Google Colab environment with T4 GPU for best results. Run this using the pickle file output from twitter_search_tool.py\n",
        "Results are used to help indentify key users and clusters of narratives.\n",
        "\n",
        "Author: Devin Quinn"
      ],
      "metadata": {
        "id": "VwPrrhFPHxmp"
      }
    },
    {
      "cell_type": "code",
      "source": [
        "!pip install faiss-gpu-cu12"
      ],
      "metadata": {
        "colab": {
          "base_uri": "https://localhost:8080/"
        },
        "id": "Znfwniw0FgQf",
        "outputId": "78ba4a44-7868-4231-af32-332c23d2b4c3"
      },
      "execution_count": 1,
      "outputs": [
        {
          "output_type": "stream",
          "name": "stdout",
          "text": [
            "Requirement already satisfied: faiss-gpu-cu12 in /usr/local/lib/python3.12/dist-packages (1.12.0)\n",
            "Requirement already satisfied: numpy<2 in /usr/local/lib/python3.12/dist-packages (from faiss-gpu-cu12) (1.26.4)\n",
            "Requirement already satisfied: packaging in /usr/local/lib/python3.12/dist-packages (from faiss-gpu-cu12) (25.0)\n",
            "Requirement already satisfied: nvidia-cuda-runtime-cu12>=12.1.105 in /usr/local/lib/python3.12/dist-packages (from faiss-gpu-cu12) (12.6.77)\n",
            "Requirement already satisfied: nvidia-cublas-cu12>=12.1.3.1 in /usr/local/lib/python3.12/dist-packages (from faiss-gpu-cu12) (12.6.4.1)\n"
          ]
        }
      ]
    },
    {
      "cell_type": "code",
      "source": [
        "input_filename = \"/content/tweets_crackerbarrel_OR_cracker_barrel_20251025_143833.pkl\"\n",
        "output_filename = \"clustering_cb.pkl\""
      ],
      "metadata": {
        "id": "AiOxWpeAygMi"
      },
      "execution_count": 2,
      "outputs": []
    },
    {
      "cell_type": "code",
      "source": [
        "import pandas as pd"
      ],
      "metadata": {
        "id": "2u56igrNBv9S"
      },
      "execution_count": 3,
      "outputs": []
    },
    {
      "cell_type": "code",
      "source": [
        "import sys\n",
        "import numpy as np\n",
        "\n",
        "# This is a patch to ensure numpy and faiss are compatible\n",
        "# Force create the missing modules\n",
        "sys.modules['numpy.core.numeric'] = np.core.numeric\n",
        "sys.modules['numpy._core'] = np.core\n",
        "sys.modules['numpy._core.numeric'] = np.core.numeric\n",
        "sys.modules['numpy.core._multiarray_umath'] = np.core._multiarray_umath\n",
        "\n",
        "print(\"Numpy patched successfully\")"
      ],
      "metadata": {
        "colab": {
          "base_uri": "https://localhost:8080/"
        },
        "id": "Cf02N-2MDhXK",
        "outputId": "0232c5f6-5e88-4e8f-8d3b-19788cb38c99"
      },
      "execution_count": 4,
      "outputs": [
        {
          "output_type": "stream",
          "name": "stdout",
          "text": [
            "Numpy patched successfully\n"
          ]
        }
      ]
    },
    {
      "cell_type": "code",
      "source": [
        "df = pd.read_pickle(input_filename)"
      ],
      "metadata": {
        "id": "vpO6H5IMy66s"
      },
      "execution_count": 5,
      "outputs": []
    },
    {
      "cell_type": "code",
      "source": [
        "all_text = df['text']"
      ],
      "metadata": {
        "id": "K28xRuXUBS2z"
      },
      "execution_count": 6,
      "outputs": []
    },
    {
      "cell_type": "code",
      "execution_count": 7,
      "metadata": {
        "id": "zQnWBbs4tfL7"
      },
      "outputs": [],
      "source": [
        "import faiss\n",
        "import json\n",
        "from sentence_transformers import SentenceTransformer"
      ]
    },
    {
      "cell_type": "code",
      "source": [
        "model_name = \"paraphrase-multilingual-mpnet-base-v2\"\n",
        "device = \"cuda\"\n",
        "batch_size = 32"
      ],
      "metadata": {
        "id": "K0bgNzTxveWV"
      },
      "execution_count": 8,
      "outputs": []
    },
    {
      "cell_type": "code",
      "source": [
        "embedder = SentenceTransformer(model_name, device=device)"
      ],
      "metadata": {
        "colab": {
          "base_uri": "https://localhost:8080/"
        },
        "id": "5PR-8l3ZybpW",
        "outputId": "038fad63-6b5a-4597-904d-47751b563ebc"
      },
      "execution_count": 9,
      "outputs": [
        {
          "output_type": "stream",
          "name": "stderr",
          "text": [
            "/usr/local/lib/python3.12/dist-packages/huggingface_hub/utils/_auth.py:94: UserWarning: \n",
            "The secret `HF_TOKEN` does not exist in your Colab secrets.\n",
            "To authenticate with the Hugging Face Hub, create a token in your settings tab (https://huggingface.co/settings/tokens), set it as secret in your Google Colab and restart your session.\n",
            "You will be able to reuse this secret in all of your notebooks.\n",
            "Please note that authentication is recommended but still optional to access public models or datasets.\n",
            "  warnings.warn(\n"
          ]
        }
      ]
    },
    {
      "cell_type": "code",
      "source": [
        "corpus_embeddings = embedder.encode(all_text, batch_size=batch_size, show_progress_bar=True)"
      ],
      "metadata": {
        "colab": {
          "base_uri": "https://localhost:8080/",
          "height": 49,
          "referenced_widgets": [
            "c8ce7c316a54427cac97d361d3e60055",
            "add2c518578f4f98bac5ea004bcef482",
            "e7f5ca8cdb8a4a228ef327deb2f86956",
            "a773db7c81b542438cbb75a079eaebf1",
            "eaa9a221db5147238ef083c7f7303089",
            "b40a29b148ec4b1cb7a0c837802c4e4d",
            "3b12a836497441e699467633aa221614",
            "1eac0babee934fc7939b91ba6ec5d40e",
            "4ab155972a864202a718a08923d63e5f",
            "4bba6699af8d44a5a112be3e6c9dee57",
            "e4d8532aefb7459589f4ca3e8e2f3f4b"
          ]
        },
        "id": "6HNFrn8fzHJl",
        "outputId": "3db70c42-69f0-49b5-f87a-5b699921a5ee"
      },
      "execution_count": 10,
      "outputs": [
        {
          "output_type": "display_data",
          "data": {
            "text/plain": [
              "Batches:   0%|          | 0/63 [00:00<?, ?it/s]"
            ],
            "application/vnd.jupyter.widget-view+json": {
              "version_major": 2,
              "version_minor": 0,
              "model_id": "c8ce7c316a54427cac97d361d3e60055"
            }
          },
          "metadata": {}
        }
      ]
    },
    {
      "cell_type": "code",
      "source": [
        "avg_posts_per_cluster = 50\n",
        "corpus_embeddings = corpus_embeddings.astype('float32')\n",
        "\n",
        "print(f\"Embedding shape: {corpus_embeddings.shape}\")\n",
        "\n",
        "# Cluster using KMeans\n",
        "print(\"\\nClustering...\")\n",
        "dimensions = corpus_embeddings.shape[-1]\n",
        "num_clusters = max(1, len(corpus_embeddings) // avg_posts_per_cluster)\n",
        "print(f\"Creating {num_clusters} clusters\")\n",
        "\n",
        "faiss.normalize_L2(corpus_embeddings)\n",
        "clusterer = faiss.Kmeans(dimensions, num_clusters, niter=20, verbose=True)\n",
        "clusterer.train(corpus_embeddings)\n",
        "\n",
        "# Extract clusters\n",
        "res = clusterer.index.search(corpus_embeddings, 1)\n",
        "cluster_assignments = res[1].flatten()\n",
        "df[\"cluster\"] = cluster_assignments"
      ],
      "metadata": {
        "colab": {
          "base_uri": "https://localhost:8080/"
        },
        "id": "2NIhboEazTmN",
        "outputId": "f5ab14b9-84a8-470b-ae18-d35edbb148fa"
      },
      "execution_count": 11,
      "outputs": [
        {
          "output_type": "stream",
          "name": "stdout",
          "text": [
            "Embedding shape: (1999, 768)\n",
            "\n",
            "Clustering...\n",
            "Creating 39 clusters\n"
          ]
        }
      ]
    },
    {
      "cell_type": "code",
      "source": [
        "with open('output_cb.txt', 'w') as f:\n",
        "    sys.stdout = f\n",
        "\n",
        "# Statistics\n",
        "    print(f\"\\n=== Clustering Results ===\")\n",
        "    print(f\"Number of clusters: {num_clusters}\")\n",
        "    print(f\"Cluster distribution:\\n{df['cluster'].value_counts().sort_index()}\")\n",
        "\n",
        "    # Save\n",
        "    df.to_pickle(output_filename)\n",
        "    print(f\"\\nSaved to {output_filename}\")\n",
        "\n",
        "\n",
        "\n",
        "# Sample tweets\n",
        "    print(\"\\n=== Sample Tweets per Cluster (first 3 clusters) ===\")\n",
        "    for cluster_id in sorted(df['cluster'].unique())[:3]:\n",
        "        print(f\"\\nCluster {cluster_id} ({len(df[df['cluster'] == cluster_id])} tweets):\")\n",
        "        samples = df[df['cluster'] == cluster_id]['text'].head(2)\n",
        "        for i, text in enumerate(samples, 1):\n",
        "            print(f\"  {i}. {text[:150]}...\")\n",
        "    sys.stdout = sys.__stdout__"
      ],
      "metadata": {
        "id": "LzsuweNkzlZb"
      },
      "execution_count": 12,
      "outputs": []
    },
    {
      "cell_type": "code",
      "source": [
        "df.info()"
      ],
      "metadata": {
        "id": "YTVxGVVSrrS_"
      },
      "execution_count": 14,
      "outputs": []
    }
  ]
}